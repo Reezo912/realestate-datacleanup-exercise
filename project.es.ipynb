{
 "cells": [
  {
   "attachments": {},
   "cell_type": "markdown",
   "id": "innocent-university",
   "metadata": {},
   "source": [
    "# Limpieza de bienes raíces\n",
    "\n",
    "Este es un conjunto de datos (dataset) reales que fue descargado usando técnicas de web scraping. La data contiene registros de **Fotocasa**, el cual es uno de los sitios más populares de bienes raíces en España. Por favor no hagas esto (web scraping) a no ser que sea para propósitos académicos.\n",
    "\n",
    "El dataset fue descargado hace algunos años por Henry Navarro y en ningún caso se obtuvo beneficio económico de ello.\n",
    "\n",
    "Contiene miles de datos de casas reales publicadas en la web www.fotocasa.com. Tu objetivo es extraer tanta información como sea posible con el conocimiento que tienes hasta ahora de ciencia de datos, por ejemplo ¿cuál es la casa más cara en todo el dataset?\n",
    "\n",
    "Empecemos precisamente con esa pregunta... ¡Buena suerte!"
   ]
  },
  {
   "attachments": {},
   "cell_type": "markdown",
   "id": "multiple-glass",
   "metadata": {},
   "source": [
    "#### Ejercicio 00. Lee el dataset assets/real_estate.csv e intenta visualizar la tabla (★☆☆)"
   ]
  },
  {
   "cell_type": "code",
   "execution_count": 5,
   "id": "frank-heath",
   "metadata": {},
   "outputs": [
    {
     "name": "stdout",
     "output_type": "stream",
     "text": [
      "       Unnamed: 0  id_realEstates  isNew                    realEstate_name  \\\n",
      "0               1       153771986  False            ferrari 57 inmobiliaria   \n",
      "1               2       153867863  False  tecnocasa fuenlabrada ferrocarril   \n",
      "2               3       153430440  False                 look find boadilla   \n",
      "3               4       152776331  False  tecnocasa fuenlabrada ferrocarril   \n",
      "4               5       153180188  False            ferrari 57 inmobiliaria   \n",
      "...           ...             ...    ...                                ...   \n",
      "15330       15331       153901377  False                infocasa consulting   \n",
      "15331       15332       150394373  False                inmobiliaria pulpon   \n",
      "15332       15333       153901397  False             tecnocasa torrelodones   \n",
      "15333       15334       152607440  False                inmobiliaria pulpon   \n",
      "15334       15335       153901356  False                infocasa consulting   \n",
      "\n",
      "       phone_realEstate                                       url_inmueble  \\\n",
      "0           912177526.0  https://www.fotocasa.es/es/comprar/vivienda/ma...   \n",
      "1           916358736.0  https://www.fotocasa.es/es/comprar/vivienda/ma...   \n",
      "2           916350408.0  https://www.fotocasa.es/es/comprar/vivienda/ma...   \n",
      "3           916358736.0  https://www.fotocasa.es/es/comprar/vivienda/ma...   \n",
      "4           912177526.0  https://www.fotocasa.es/es/comprar/vivienda/ma...   \n",
      "...                 ...                                                ...   \n",
      "15330       911360461.0  https://www.fotocasa.es/es/comprar/vivienda/ma...   \n",
      "15331       912788039.0  https://www.fotocasa.es/es/comprar/vivienda/ma...   \n",
      "15332       912780348.0  https://www.fotocasa.es/es/comprar/vivienda/ma...   \n",
      "15333       912788039.0  https://www.fotocasa.es/es/comprar/vivienda/ma...   \n",
      "15334       911360461.0  https://www.fotocasa.es/es/comprar/vivienda/ma...   \n",
      "\n",
      "       rooms  bathrooms  surface   price  ... level4Id level5Id level6Id  \\\n",
      "0        3.0        2.0    103.0  195000  ...        0        0        0   \n",
      "1        3.0        1.0      NaN   89000  ...        0        0        0   \n",
      "2        2.0        2.0     99.0  390000  ...        0        0        0   \n",
      "3        3.0        1.0     86.0   89000  ...        0        0        0   \n",
      "4        2.0        2.0    106.0  172000  ...        0        0        0   \n",
      "...      ...        ...      ...     ...  ...      ...      ...      ...   \n",
      "15330    2.0        1.0     96.0  259470  ...        0        0        0   \n",
      "15331    3.0        1.0    150.0  165000  ...        0        0        0   \n",
      "15332    4.0        2.0    175.0  495000  ...        0        0        0   \n",
      "15333    3.0        2.0    101.0  195000  ...        0        0        0   \n",
      "15334    3.0        2.0    152.0  765000  ...        0        0        0   \n",
      "\n",
      "      level7Id level8Id accuracy          latitude          longitude zipCode  \\\n",
      "0            0        0        0  40,2948276786438  -3,44402412135624     NaN   \n",
      "1            0        0        1          40,28674           -3,79351     NaN   \n",
      "2            0        0        0  40,4115646786438  -3,90662252135624     NaN   \n",
      "3            0        0        0  40,2853785786438  -3,79508142135624     NaN   \n",
      "4            0        0        0  40,2998774864376  -3,45226301356237     NaN   \n",
      "...        ...      ...      ...               ...                ...     ...   \n",
      "15330        0        0        0          40,45416           -3,70286     NaN   \n",
      "15331        0        0        0          40,36652           -3,48951     NaN   \n",
      "15332        0        0        0          40,57444           -3,92124     NaN   \n",
      "15333        0        0        0          40,36967           -3,48105     NaN   \n",
      "15334        0        0        0          40,45773           -3,69068     NaN   \n",
      "\n",
      "      customZone  \n",
      "0            NaN  \n",
      "1            NaN  \n",
      "2            NaN  \n",
      "3            NaN  \n",
      "4            NaN  \n",
      "...          ...  \n",
      "15330        NaN  \n",
      "15331        NaN  \n",
      "15332        NaN  \n",
      "15333        NaN  \n",
      "15334        NaN  \n",
      "\n",
      "[15335 rows x 37 columns]\n"
     ]
    }
   ],
   "source": [
    "import pandas as pd\n",
    "\n",
    "# Este archivo CSV contiene puntos y comas en lugar de comas como separadores\n",
    "ds = pd.read_csv('assets/real_estate.csv', sep=';')\n",
    "print(ds)"
   ]
  },
  {
   "attachments": {},
   "cell_type": "markdown",
   "id": "latin-guest",
   "metadata": {},
   "source": [
    "#### Ejercicio 01. ¿Cuál es la casa más cara en todo el dataset? (★☆☆)\n",
    "\n",
    "Imprime la dirección y el precio de la casa seleccionada. Por ejemplo:\n",
    "\n",
    "`La casa con dirección en Calle del Prado, Nº20 es la más cara y su precio es de 5000000 USD`"
   ]
  },
  {
   "cell_type": "code",
   "execution_count": 6,
   "id": "developing-optimum",
   "metadata": {},
   "outputs": [
    {
     "name": "stdout",
     "output_type": "stream",
     "text": [
      "La casa con direccion en El Escorial es la mas cara y su precio es de 8500000 USD\n"
     ]
    }
   ],
   "source": [
    "# TODO \n",
    "\n",
    "precioID = ds['price'].idxmax()\n",
    "direccion = ds.loc[precioID,'address']\n",
    "\n",
    "\n",
    "precio = ds['price'].max()\n",
    "\n",
    "print(f'La casa con direccion en {direccion} es la mas cara y su precio es de {precio} USD')\n"
   ]
  },
  {
   "attachments": {},
   "cell_type": "markdown",
   "id": "lesser-cosmetic",
   "metadata": {},
   "source": [
    "#### Ejercicio 02. ¿Cuál es la casa más barata del dataset? (★☆☆)\n",
    "\n",
    "Imprime la dirección y el precio de la casa seleccionada. Por ejemplo:\n",
    "\n",
    "`La casa con dirección en Calle Alcalá, Nº58 es la más barata y su precio es de 12000 USD`"
   ]
  },
  {
   "cell_type": "code",
   "execution_count": 7,
   "id": "lovely-oasis",
   "metadata": {},
   "outputs": [
    {
     "name": "stdout",
     "output_type": "stream",
     "text": [
      "La casa con direccion en Parla es la mas barata y su precio es de 0 USD\n"
     ]
    }
   ],
   "source": [
    "# TODO\n",
    "\n",
    "precioID = ds['price'].idxmin()\n",
    "direccion = ds.loc[precioID,'address']\n",
    "\n",
    "\n",
    "precio = ds['price'].min()\n",
    "\n",
    "print(f'La casa con direccion en {direccion} es la mas barata y su precio es de {precio} USD')\n"
   ]
  },
  {
   "attachments": {},
   "cell_type": "markdown",
   "id": "compliant-fellowship",
   "metadata": {},
   "source": [
    "#### Ejercicio 03. ¿Cuál es la casa más grande y la más pequeña del dataset? (★☆☆)\n",
    "\n",
    "Imprime la dirección y el área de las casas seleccionadas. Por ejemplo:\n",
    "\n",
    "`La casa más grande está ubicada en Calle Gran Vía, Nº38 y su superficie es de 5000 metros`\n",
    "\n",
    "`La casa más pequeña está ubicada en Calle Mayor, Nº12 y su superficie es de 200 metros`"
   ]
  },
  {
   "cell_type": "code",
   "execution_count": 8,
   "id": "every-tiffany",
   "metadata": {},
   "outputs": [
    {
     "name": "stdout",
     "output_type": "stream",
     "text": [
      "La casa mas grande esta ubicada en Sevilla la Nueva y su superficie es de 249000.0\n",
      "La casa mas pequeña esta ubicada en Calle Amparo,  Madrid Capital y su superficie es de 15.0\n"
     ]
    }
   ],
   "source": [
    "# TODO\n",
    "maxSize = ds['surface'].max()\n",
    "maxSizeID = ds['surface'].idxmax()\n",
    "maxSizeAddress = ds.loc[maxSizeID,'address']\n",
    "\n",
    "minSize = ds['surface'].min()\n",
    "minSizeID = ds['surface'].idxmin()\n",
    "minSizeAddress = ds.loc[minSizeID,'address']\n",
    "\n",
    "print(f'La casa mas grande esta ubicada en {maxSizeAddress} y su superficie es de {maxSize}\\nLa casa mas pequeña esta ubicada en {minSizeAddress} y su superficie es de {minSize}')"
   ]
  },
  {
   "attachments": {},
   "cell_type": "markdown",
   "id": "danish-spirit",
   "metadata": {},
   "source": [
    "#### Ejercicio 04. ¿Cuantas poblaciones (columna level5) contiene el dataset? (★☆☆)\n",
    "\n",
    "Imprime el nombre de las poblaciones separadas por coma. Por ejemplo:\n",
    "\n",
    "`> print(populations)`\n",
    "\n",
    "`population1, population2, population3, ...`"
   ]
  },
  {
   "cell_type": "code",
   "execution_count": 25,
   "id": "exciting-accreditation",
   "metadata": {},
   "outputs": [
    {
     "name": "stdout",
     "output_type": "stream",
     "text": [
      "Arganda del Rey, Fuenlabrada, Boadilla del Monte, Las Rozas de Madrid,  Madrid Capital, Villaviciosa de Odón, Pinto, Valdemoro, Navalcarnero, Pozuelo de Alarcón, Torrejón de Ardoz, Navalagamella, San Sebastián de los Reyes, Rivas-vaciamadrid, Alpedrete, Móstoles, San Fernando de Henares, Coslada, Becerril de la Sierra, Alcalá de Henares, Chinchón, Parla, Alcorcón, El Escorial, Leganés, Pedrezuela, Majadahonda, Villanueva de la Cañada, Villanueva del Pardillo, Torrelodones, Moralzarzal, Mejorada del Campo, Aranjuez, Corpa, Getafe, Velilla de San Antonio, Sevilla la Nueva, San Martín de la Vega, Villalbilla, Collado Villalba, Alcobendas, El Molar (Madrid), Moraleja de Enmedio, Algete, Campo Real, Torrejón de la Calzada, Colmenar Viejo, Valdemorillo, Fuente El Saz de Jarama, Tres Cantos, Arroyomolinos (Madrid), Griñón, Paracuellos de Jarama, Guadarrama, Titulcia, Galapagar, Collado Mediano, Los Molinos, San Lorenzo de El Escorial, Loeches, San Martín de Valdeiglesias, Navas del Rey, Bustarviejo, Manzanares El Real, Carabaña, Casarrubuelos, Cercedilla, Fresnedillas de la Oliva, Valdemaqueda, Robledo de Chavela, Miraflores de la Sierra, Humanes de Madrid, Valdetorres de Jarama, San Agustín del Guadalix, Ciempozuelos, Camarma de Esteruelas, Torres de la Alameda, Talamanca de Jarama, El Atazar, Hoyo de Manzanares, El Boalo - Cerceda – Mataelpino, El Álamo, Valdilecha, Valdeolmos-Alalpardo, Guadalix de la Sierra, Belmonte de Tajo, El Vellón, Brunete, Redueña, Morata de Tajuña, Tielmes, Gargantilla del Lozoya, Meco, Venturada, Quijorna, Cenicientos, Torrejón de Velasco, Navacerrada, Santa María de la Alameda, Orusco de Tajuña, Daganzo de Arriba, Villamanta, Anchuelo, Valdaracete, Ajalvir, Los Santos de la Humosa, Villamanrique de Tajo, Colmenar de Oreja, Villa del Prado, Fuentidueña de Tajo, Colmenar del Arroyo, Valdelaguna, Cubas de la Sagra, Valdeavero, Aldea del Fresno, Ribatejada, Torrelaguna, Batres, Pezuela de las Torres, Colmenarejo, Serranillos del Valle, Cobeña, Soto del Real, El Berrueco, Villanueva de Perales, Fresno de Torote - Serracines, Pozuelo del Rey, Pelayos de la Presa, La Cabrera, Nuevo Baztán, Perales de Tajuña, Villaconejos, Villarejo de Salvanés, Cadalso de los Vidrios, Santorcaz, Madarcos, Garganta de los Montes, Puentes Viejas, Torremocha de Jarama, Valdemanco, Braojos, Lozoyuela-navas-sieteiglesias, Piñuécar-gandullas, Valdepiélagos, Valverde de Alcalá, Villar del Olmo, Villamantilla, Horcajo de la Sierra, Gascones, Zarzalejo, Villavieja del Lozoya, Brea de Tajo, Estremera, Chapinería, Navarredonda, Patones, Ambite, Navalafuente, Lozoya, Canencia, Cabanillas de la Sierra, Buitrago del Lozoya, Fresno de Torote, Robregordo, Pinilla del Valle, Rascafría, La Hiruela, Montejo de la Sierra\n"
     ]
    }
   ],
   "source": [
    "# TODO\n",
    "\n",
    "poblaciones = ds['level5'].astype(str)\n",
    "poblacionesOutput = \", \".join(pd.unique(poblaciones))\n",
    "\n",
    "print(poblacionesOutput)"
   ]
  },
  {
   "attachments": {},
   "cell_type": "markdown",
   "id": "crazy-blame",
   "metadata": {},
   "source": [
    "#### Ejercicio 05. ¿El dataset contiene valores no admitidos (NAs)? (★☆☆)\n",
    "\n",
    "Imprima un booleano (`True` o `False`) seguido de la fila/columna que contiene el NAs."
   ]
  },
  {
   "cell_type": "code",
   "execution_count": null,
   "id": "transparent-poetry",
   "metadata": {},
   "outputs": [
    {
     "name": "stdout",
     "output_type": "stream",
     "text": [
      "       Unnamed: 0  id_realEstates  isNew  realEstate_name  phone_realEstate  \\\n",
      "0           False           False  False            False             False   \n",
      "1           False           False  False            False             False   \n",
      "2           False           False  False            False             False   \n",
      "3           False           False  False            False             False   \n",
      "4           False           False  False            False             False   \n",
      "...           ...             ...    ...              ...               ...   \n",
      "15330       False           False  False            False             False   \n",
      "15331       False           False  False            False             False   \n",
      "15332       False           False  False            False             False   \n",
      "15333       False           False  False            False             False   \n",
      "15334       False           False  False            False             False   \n",
      "\n",
      "       url_inmueble  rooms  bathrooms  surface  price  ...  level4Id  \\\n",
      "0             False  False      False    False  False  ...     False   \n",
      "1             False  False      False     True  False  ...     False   \n",
      "2             False  False      False    False  False  ...     False   \n",
      "3             False  False      False    False  False  ...     False   \n",
      "4             False  False      False    False  False  ...     False   \n",
      "...             ...    ...        ...      ...    ...  ...       ...   \n",
      "15330         False  False      False    False  False  ...     False   \n",
      "15331         False  False      False    False  False  ...     False   \n",
      "15332         False  False      False    False  False  ...     False   \n",
      "15333         False  False      False    False  False  ...     False   \n",
      "15334         False  False      False    False  False  ...     False   \n",
      "\n",
      "       level5Id  level6Id  level7Id  level8Id  accuracy  latitude  longitude  \\\n",
      "0         False     False     False     False     False     False      False   \n",
      "1         False     False     False     False     False     False      False   \n",
      "2         False     False     False     False     False     False      False   \n",
      "3         False     False     False     False     False     False      False   \n",
      "4         False     False     False     False     False     False      False   \n",
      "...         ...       ...       ...       ...       ...       ...        ...   \n",
      "15330     False     False     False     False     False     False      False   \n",
      "15331     False     False     False     False     False     False      False   \n",
      "15332     False     False     False     False     False     False      False   \n",
      "15333     False     False     False     False     False     False      False   \n",
      "15334     False     False     False     False     False     False      False   \n",
      "\n",
      "       zipCode  customZone  \n",
      "0         True        True  \n",
      "1         True        True  \n",
      "2         True        True  \n",
      "3         True        True  \n",
      "4         True        True  \n",
      "...        ...         ...  \n",
      "15330     True        True  \n",
      "15331     True        True  \n",
      "15332     True        True  \n",
      "15333     True        True  \n",
      "15334     True        True  \n",
      "\n",
      "[15335 rows x 37 columns]\n"
     ]
    }
   ],
   "source": [
    "# TODO\n",
    "print(pd.isna(ds))"
   ]
  },
  {
   "attachments": {},
   "cell_type": "markdown",
   "id": "italic-hydrogen",
   "metadata": {},
   "source": [
    "#### Ejercicio 06. Elimina los NAs del dataset, si aplica (★★☆)\n",
    "\n",
    "Imprima una comparación entre las dimensiones del DataFrame original versus el DataFrame después de las eliminaciones.\n"
   ]
  },
  {
   "cell_type": "code",
   "execution_count": null,
   "id": "administrative-roads",
   "metadata": {},
   "outputs": [
    {
     "name": "stdout",
     "output_type": "stream",
     "text": [
      "       Unnamed: 0  id_realEstates  isNew  \\\n",
      "0               1       153771986  False   \n",
      "1               2       153867863  False   \n",
      "2               3       153430440  False   \n",
      "3               4       152776331  False   \n",
      "4               5       153180188  False   \n",
      "...           ...             ...    ...   \n",
      "15330       15331       153901377  False   \n",
      "15331       15332       150394373  False   \n",
      "15332       15333       153901397  False   \n",
      "15333       15334       152607440  False   \n",
      "15334       15335       153901356  False   \n",
      "\n",
      "                                            url_inmueble   price  \\\n",
      "0      https://www.fotocasa.es/es/comprar/vivienda/ma...  195000   \n",
      "1      https://www.fotocasa.es/es/comprar/vivienda/ma...   89000   \n",
      "2      https://www.fotocasa.es/es/comprar/vivienda/ma...  390000   \n",
      "3      https://www.fotocasa.es/es/comprar/vivienda/ma...   89000   \n",
      "4      https://www.fotocasa.es/es/comprar/vivienda/ma...  172000   \n",
      "...                                                  ...     ...   \n",
      "15330  https://www.fotocasa.es/es/comprar/vivienda/ma...  259470   \n",
      "15331  https://www.fotocasa.es/es/comprar/vivienda/ma...  165000   \n",
      "15332  https://www.fotocasa.es/es/comprar/vivienda/ma...  495000   \n",
      "15333  https://www.fotocasa.es/es/comprar/vivienda/ma...  195000   \n",
      "15334  https://www.fotocasa.es/es/comprar/vivienda/ma...  765000   \n",
      "\n",
      "                               date  \\\n",
      "0      2019-12-28T18:27:15.9975027Z   \n",
      "1      2019-12-28T18:27:15.9975027Z   \n",
      "2      2019-12-28T18:27:15.9975027Z   \n",
      "3      2019-12-28T18:27:15.9975027Z   \n",
      "4      2019-12-28T18:27:15.9975027Z   \n",
      "...                             ...   \n",
      "15330          2019-12-17T18:19:00Z   \n",
      "15331          2019-12-17T18:19:00Z   \n",
      "15332          2019-12-17T18:19:00Z   \n",
      "15333          2019-12-17T18:18:00Z   \n",
      "15334          2019-12-17T18:17:00Z   \n",
      "\n",
      "                                                 address country  level1  \\\n",
      "0      Calle Presidente Felipe Gonzalez, Arganda del Rey  España  Madrid   \n",
      "1                       Calle Polvoranca, 6, Fuenlabrada  España  Madrid   \n",
      "2              Calle Reyes Católicos, Boadilla del Monte  España  Madrid   \n",
      "3                         Barrio San Andres, Fuenlabrada  España  Madrid   \n",
      "4                                        Arganda del Rey  España  Madrid   \n",
      "...                                                  ...     ...     ...   \n",
      "15330                                     Madrid Capital  España  Madrid   \n",
      "15331                             Velilla de San Antonio  España  Madrid   \n",
      "15332                                       Torrelodones  España  Madrid   \n",
      "15333                             Velilla de San Antonio  España  Madrid   \n",
      "15334            Paseo de la Castellana,  Madrid Capital  España  Madrid   \n",
      "\n",
      "       level2  ... level2Id level3Id level4Id  level5Id  level6Id  level7Id  \\\n",
      "0      Madrid  ...        0        0        0         0         0         0   \n",
      "1      Madrid  ...        0        0        0         0         0         0   \n",
      "2      Madrid  ...        0        0        0         0         0         0   \n",
      "3      Madrid  ...        0        0        0         0         0         0   \n",
      "4      Madrid  ...        0        0        0         0         0         0   \n",
      "...       ...  ...      ...      ...      ...       ...       ...       ...   \n",
      "15330  Madrid  ...        0        0        0         0         0         0   \n",
      "15331  Madrid  ...        0        0        0         0         0         0   \n",
      "15332  Madrid  ...        0        0        0         0         0         0   \n",
      "15333  Madrid  ...        0        0        0         0         0         0   \n",
      "15334  Madrid  ...        0        0        0         0         0         0   \n",
      "\n",
      "       level8Id  accuracy          latitude          longitude  \n",
      "0             0         0  40,2948276786438  -3,44402412135624  \n",
      "1             0         1          40,28674           -3,79351  \n",
      "2             0         0  40,4115646786438  -3,90662252135624  \n",
      "3             0         0  40,2853785786438  -3,79508142135624  \n",
      "4             0         0  40,2998774864376  -3,45226301356237  \n",
      "...         ...       ...               ...                ...  \n",
      "15330         0         0          40,45416           -3,70286  \n",
      "15331         0         0          40,36652           -3,48951  \n",
      "15332         0         0          40,57444           -3,92124  \n",
      "15333         0         0          40,36967           -3,48105  \n",
      "15334         0         0          40,45773           -3,69068  \n",
      "\n",
      "[15335 rows x 25 columns]\n",
      "Dimensiones del DataFrame original: (15335, 37)\n",
      "Dimensiones del DataFrame sin NAs: (15335, 25)\n"
     ]
    }
   ],
   "source": [
    "# TODO\n",
    "ds_no_NA = ds.dropna(axis=1)\n",
    "\n",
    "print(ds_no_NA)\n",
    "\n",
    "ds_dimensiones = ds.shape\n",
    "\n",
    "ds_no_NA_dimensiones = ds_no_NA.shape\n",
    "\n",
    "print(f'Dimensiones del DataFrame original: {ds_dimensiones}')\n",
    "\n",
    "print(f'Dimensiones del DataFrame sin NAs: {ds_no_NA_dimensiones}')\n"
   ]
  },
  {
   "attachments": {},
   "cell_type": "markdown",
   "id": "middle-china",
   "metadata": {},
   "source": [
    "#### Ejercicio 07. ¿Cuál la media de precios en la población (columna level5) de \"Arroyomolinos (Madrid)\"? (★★☆)\n",
    "\n",
    "Imprima el valor obtenido."
   ]
  },
  {
   "cell_type": "code",
   "execution_count": null,
   "id": "nuclear-belief",
   "metadata": {},
   "outputs": [
    {
     "name": "stdout",
     "output_type": "stream",
     "text": [
      "                    level5         price\n",
      "12  Arroyomolinos (Madrid)  294541.59854\n"
     ]
    }
   ],
   "source": [
    "# TODO\n",
    "\n",
    "\n",
    "media_poblaciones = ds.groupby('level5', as_index=False)['price'].mean()\n",
    "indice_arroyomolinos = media_poblaciones[media_poblaciones['level5'] == 'Arroyomolinos (Madrid)'].index\n",
    "\n",
    "print(media_poblaciones.loc[indice_arroyomolinos])\n"
   ]
  },
  {
   "attachments": {},
   "cell_type": "markdown",
   "id": "concerned-radical",
   "metadata": {},
   "source": [
    "#### Ejercicio 08. Trazar el histograma de los precios para la población (level5 column) de \"Arroyomolinos (Madrid)\" y explica qué observas (★★☆)\n",
    "\n",
    "Imprime el histograma de los precios y escribe en la celda del Markdown un breve análisis del trazado.\n"
   ]
  },
  {
   "cell_type": "code",
   "execution_count": null,
   "id": "sudden-message",
   "metadata": {},
   "outputs": [
    {
     "data": {
      "text/plain": [
       "<Axes: >"
      ]
     },
     "execution_count": 9,
     "metadata": {},
     "output_type": "execute_result"
    },
    {
     "data": {
      "image/png": "[encoded data removed]",
      "text/plain": [
       "<Figure size 640x480 with 1 Axes>"
      ]
     },
     "metadata": {},
     "output_type": "display_data"
    }
   ],
   "source": [
    "# TODO: Code\n",
    "\n",
    "precio_arroyomolinos = ds[ds['level5'] == 'Arroyomolinos (Madrid)']['price']\n",
    "precio_arroyomolinos.hist(bins=10)"
   ]
  },
  {
   "attachments": {},
   "cell_type": "markdown",
   "id": "impressed-combination",
   "metadata": {},
   "source": [
    "Se observa que hay algunos valores que son nulos, y que el precio medio coincide con el pico mas alto en el histograma, siendo los pisos mas caros inferiores a los 600.000 $"
   ]
  },
  {
   "attachments": {},
   "cell_type": "markdown",
   "id": "actual-edinburgh",
   "metadata": {},
   "source": [
    "#### Ejercicio 09. ¿Son los precios promedios de \"Valdemorillo\" y \"Galapagar\" los mismos? (★★☆)\n",
    "\n",
    "Imprime ambos promedios y escribe una conclusión sobre ellos."
   ]
  },
  {
   "cell_type": "code",
   "execution_count": null,
   "id": "numeric-commerce",
   "metadata": {},
   "outputs": [
    {
     "name": "stdout",
     "output_type": "stream",
     "text": [
      "El precio medio en Galapagar es de 360063.20238095237\n",
      "El precio medio en Valdemorillo es de 363860.2931034483\n",
      "La diferencia es de 3797.090722495923, siendo Valdemorillo mas caro\n"
     ]
    }
   ],
   "source": [
    "# TODO\n",
    "precio_galapagar = ds[ds['level5'] == 'Galapagar']['price'].mean()\n",
    "precio_valdemorillo = ds[ds['level5'] == 'Valdemorillo']['price'].mean()\n",
    "\n",
    "print(f'El precio medio en Galapagar es de {precio_galapagar}')\n",
    "print(f'El precio medio en Valdemorillo es de {precio_valdemorillo}')\n",
    "\n",
    "print(f'La diferencia es de {precio_valdemorillo - precio_galapagar}, siendo Valdemorillo mas caro')"
   ]
  },
  {
   "cell_type": "markdown",
   "id": "b5730f46",
   "metadata": {},
   "source": [
    "El precio medio entre ambas poblaciones es muy similar, siendo una diferencia de 3797,09 $ mas caro Valdemorillo"
   ]
  },
  {
   "attachments": {},
   "cell_type": "markdown",
   "id": "lonely-article",
   "metadata": {},
   "source": [
    "#### Ejercicio 10. ¿Son los promedios de precio por metro cuadrado (precio/m2) de \"Valdemorillo\" y \"Galapagar\" los mismos? (★★☆)\n",
    "\n",
    "Imprime ambos promedios de precio por metro cuadrado y escribe una conclusión sobre ellos.\n",
    "\n",
    "Pista: Crea una nueva columna llamada `pps` (*price per square* o precio por metro cuadrado) y luego analiza los valores."
   ]
  },
  {
   "cell_type": "code",
   "execution_count": null,
   "id": "hourly-globe",
   "metadata": {},
   "outputs": [
    {
     "name": "stdout",
     "output_type": "stream",
     "text": [
      "El precio por metro cuadrado en Galapagar es de: 1606.3240303094024\n",
      "El precio por metro cuadrado en Valdemorillo es de: 1317.9502109024986\n"
     ]
    }
   ],
   "source": [
    "# TODO\n",
    "ds['pps'] = ds['price'] / ds['surface']\n",
    "\n",
    "pps_medio_galapagar = ds[ds['level5'] == 'Galapagar']['pps'].mean()\n",
    "pps_medio_valdemorillo = ds[ds['level5'] == 'Valdemorillo']['pps'].mean()\n",
    "\n",
    "print(f'El precio por metro cuadrado en Galapagar es de: {pps_medio_galapagar}')\n",
    "print(f'El precio por metro cuadrado en Valdemorillo es de: {pps_medio_valdemorillo}')"
   ]
  },
  {
   "cell_type": "markdown",
   "id": "1f664911",
   "metadata": {},
   "source": [
    "Pese a que la media de precio en las dos poblaciones es practicamente la misma, el precio por metro cuadrado es mayor en Galapagar, por lo tanto, una casa por el mismo precio sera menor en Galapagar que en Valdemorillo"
   ]
  },
  {
   "attachments": {},
   "cell_type": "markdown",
   "id": "pleasant-invite",
   "metadata": {},
   "source": [
    "#### Ejercicio 11. Analiza la relación entre la superficie y el precio de las casas. (★★☆)\n",
    "\n",
    "Pista: Puedes hacer un `scatter plot` y luego escribir una conclusión al respecto."
   ]
  },
  {
   "cell_type": "code",
   "execution_count": null,
   "id": "common-drilling",
   "metadata": {},
   "outputs": [
    {
     "data": {
      "image/png": "[encoded data removed]",
      "text/plain": [
       "<Figure size 1200x1200 with 1 Axes>"
      ]
     },
     "metadata": {},
     "output_type": "display_data"
    }
   ],
   "source": [
    "# TODO: Código\n",
    "\n",
    "import matplotlib.pyplot as plt\n",
    "\n",
    "plt.figure(figsize=(12, 12))\n",
    "plt.scatter(ds['surface'], ds['price'], color='blue', alpha=0.6)\n",
    "\n",
    "# Etiquetas y título\n",
    "plt.title('Precio/Superficie')\n",
    "plt.xlabel('Superficie')\n",
    "plt.ylabel('Precio')\n",
    "\n",
    "# Mostrar el gráfico\n",
    "plt.show()\n"
   ]
  },
  {
   "cell_type": "code",
   "execution_count": null,
   "id": "d4317d55",
   "metadata": {},
   "outputs": [],
   "source": [
    "# La mayoria de las casas se encuentran por debajo de un precio de 400.000 $"
   ]
  },
  {
   "attachments": {},
   "cell_type": "markdown",
   "id": "coordinate-sunrise",
   "metadata": {},
   "source": [
    "#### Ejercicio 12. ¿Cuántas agencia de bienes raíces contiene el dataset? (★★☆)\n",
    "\n",
    "Imprime el valor obtenido."
   ]
  },
  {
   "cell_type": "code",
   "execution_count": null,
   "id": "valid-honolulu",
   "metadata": {},
   "outputs": [
    {
     "name": "stdout",
     "output_type": "stream",
     "text": [
      "realEstate_name\n",
      "engel volkers madrid    470\n",
      "infocasa consulting     300\n",
      "outletdeviviendas       260\n",
      "housell                 250\n",
      "solvia inmobiliaria     207\n",
      "                       ... \n",
      "inmonorte                 1\n",
      "pedro angel               1\n",
      "city madrid               1\n",
      "copernicus servicing      1\n",
      "active inmobiliaria       1\n",
      "Name: count, Length: 1821, dtype: int64\n",
      "El numero total de agencias es de: 1821\n"
     ]
    }
   ],
   "source": [
    "# TODO\n",
    "\n",
    "ds_realstate = ds['realEstate_name'].value_counts()\n",
    "\n",
    "\n",
    "print(ds_realstate)\n",
    "\n",
    "print(f'El numero total de agencias es de: {len(ds_realstate)}')\n"
   ]
  },
  {
   "attachments": {},
   "cell_type": "markdown",
   "id": "binding-ebony",
   "metadata": {},
   "source": [
    "#### Ejercicio 13. ¿Cuál es la población (columna level5) que contiene la mayor cantidad de casas?(★★☆)\n",
    "\n",
    "Imprima la población y el número de casas."
   ]
  },
  {
   "cell_type": "code",
   "execution_count": null,
   "id": "static-perry",
   "metadata": {},
   "outputs": [
    {
     "name": "stdout",
     "output_type": "stream",
     "text": [
      "La poblacion con el mayor numero de casas es  Madrid Capital con 6643 casas.\n"
     ]
    }
   ],
   "source": [
    "# TODO\n",
    "\n",
    "poblaciones = ds['level5'].value_counts()\n",
    "\n",
    "localidad_maxima = poblaciones.idxmax()\n",
    "numero_casas = poblaciones.max()\n",
    "\n",
    "print(f'La poblacion con el mayor numero de casas es {localidad_maxima} con {numero_casas} casas.')\n",
    "\n"
   ]
  },
  {
   "attachments": {},
   "cell_type": "markdown",
   "id": "entire-classification",
   "metadata": {},
   "source": [
    "#### Ejercicio 14. Ahora vamos a trabajar con el \"cinturón sur\" de Madrid. Haz un subconjunto del DataFrame original que contenga las siguientes poblaciones (columna level5): \"Fuenlabrada\", \"Leganés\", \"Getafe\", \"Alcorcón\" (★★☆)\n",
    "\n",
    "Pista: Filtra el DataFrame original usando la columna `level5` y la función `isin`."
   ]
  },
  {
   "cell_type": "code",
   "execution_count": null,
   "id": "binary-input",
   "metadata": {},
   "outputs": [
    {
     "name": "stdout",
     "output_type": "stream",
     "text": [
      "       Unnamed: 0  id_realEstates  isNew  \\\n",
      "1               2       153867863  False   \n",
      "3               4       152776331  False   \n",
      "85             86       153152077  False   \n",
      "94             95       153995577  False   \n",
      "109           110       153586414  False   \n",
      "...           ...             ...    ...   \n",
      "15275       15276       153903887  False   \n",
      "15291       15292       151697757  False   \n",
      "15305       15306       153902389  False   \n",
      "15322       15323       153871864  False   \n",
      "15325       15326       153901467  False   \n",
      "\n",
      "                                 realEstate_name  phone_realEstate  \\\n",
      "1              tecnocasa fuenlabrada ferrocarril       916358736.0   \n",
      "3              tecnocasa fuenlabrada ferrocarril       916358736.0   \n",
      "85                       sinergical inmobiliaria               NaN   \n",
      "94                               viviendas365com       911226014.0   \n",
      "109              area uno asesores inmobiliarios       912664081.0   \n",
      "...                                          ...               ...   \n",
      "15275  aliseda servicios de gestion inmobiliaria       911368198.0   \n",
      "15291                                    unipiso       912788631.0   \n",
      "15305                             jadein ferrero       914871639.0   \n",
      "15322                          gestion comercial       911220662.0   \n",
      "15325                              montehogar 68       911790675.0   \n",
      "\n",
      "                                            url_inmueble  rooms  bathrooms  \\\n",
      "1      https://www.fotocasa.es/es/comprar/vivienda/ma...    3.0        1.0   \n",
      "3      https://www.fotocasa.es/es/comprar/vivienda/ma...    3.0        1.0   \n",
      "85     https://www.fotocasa.es/es/comprar/vivienda/le...    1.0        1.0   \n",
      "94     https://www.fotocasa.es/es/comprar/vivienda/le...    3.0        2.0   \n",
      "109    https://www.fotocasa.es/es/comprar/vivienda/ma...    3.0        3.0   \n",
      "...                                                  ...    ...        ...   \n",
      "15275  https://www.fotocasa.es/es/comprar/vivienda/al...    3.0        1.0   \n",
      "15291  https://www.fotocasa.es/es/comprar/vivienda/al...    3.0        2.0   \n",
      "15305  https://www.fotocasa.es/es/comprar/vivienda/ma...    3.0        2.0   \n",
      "15322  https://www.fotocasa.es/es/comprar/vivienda/ma...    3.0        1.0   \n",
      "15325  https://www.fotocasa.es/es/comprar/vivienda/ma...    2.0        2.0   \n",
      "\n",
      "       surface   price  ... level5Id level6Id level7Id level8Id accuracy  \\\n",
      "1          NaN   89000  ...        0        0        0        0        1   \n",
      "3         86.0   89000  ...        0        0        0        0        0   \n",
      "85        50.0  107000  ...        0        0        0        0        1   \n",
      "94       120.0  320000  ...        0        0        0        0        0   \n",
      "109      142.0  425000  ...        0        0        0        0        0   \n",
      "...        ...     ...  ...      ...      ...      ...      ...      ...   \n",
      "15275     78.0  138000  ...        0        0        0        0        1   \n",
      "15291    110.0  279000  ...        0        0        0        0        0   \n",
      "15305     85.0  170000  ...        0        0        0        0        0   \n",
      "15322     91.0  112000  ...        0        0        0        0        0   \n",
      "15325     99.0  215000  ...        0        0        0        0        1   \n",
      "\n",
      "               latitude          longitude zipCode customZone          pps  \n",
      "1              40,28674           -3,79351     NaN        NaN          NaN  \n",
      "3      40,2853785786438  -3,79508142135624     NaN        NaN  1034.883721  \n",
      "85             40,35059           -3,82693     NaN        NaN  2140.000000  \n",
      "94             40,31933           -3,77574     NaN        NaN  2666.666667  \n",
      "109          40,3313411         -3,8313868     NaN        NaN  2992.957746  \n",
      "...                 ...                ...     ...        ...          ...  \n",
      "15275          40,31381           -3,83733     NaN        NaN  1769.230769  \n",
      "15291        40,3259051           -3,76318     NaN        NaN  2536.363636  \n",
      "15305        40,2882193         -3,8098617     NaN        NaN  2000.000000  \n",
      "15322          40,28282           -3,78892     NaN        NaN  1230.769231  \n",
      "15325          40,28062           -3,79869     NaN        NaN  2171.717172  \n",
      "\n",
      "[907 rows x 38 columns]\n"
     ]
    }
   ],
   "source": [
    "# TODO\n",
    "\n",
    "filtro_poblaciones = ['Fuenlabrada', 'Leganés', 'Getafe', 'Alcorcón']\n",
    "\n",
    "cinturon_sur = ds[ds['level5'].isin(filtro_poblaciones)]\n",
    "\n",
    "print(cinturon_sur)"
   ]
  },
  {
   "attachments": {},
   "cell_type": "markdown",
   "id": "severe-fisher",
   "metadata": {},
   "source": [
    "#### Ejercicio 15. Traza un gráfico de barras de la mediana de los precios y explica lo que observas (debes usar el subconjunto obtenido del Ejercicio 14) (★★★)\n",
    "\n",
    "Imprima un gráfico de barras de la mediana de precios y escriba en la celda Markdown un breve análisis sobre el gráfico."
   ]
  },
  {
   "cell_type": "code",
   "execution_count": null,
   "id": "lyric-bunch",
   "metadata": {},
   "outputs": [
    {
     "data": {
      "image/png": "[encoded data removed]",
      "text/plain": [
       "<Figure size 1000x500 with 1 Axes>"
      ]
     },
     "metadata": {},
     "output_type": "display_data"
    }
   ],
   "source": [
    "# TODO: Code\n",
    "\n",
    "import matplotlib.pyplot as plt\n",
    "\n",
    "mediana = cinturon_sur.groupby('level5')['price'].median()\n",
    "\n",
    "poblacion = mediana.index\n",
    "precio = mediana.values\n",
    "\n",
    "plt.figure(figsize = (10, 5))\n",
    "\n",
    "plt.bar(poblacion, precio)\n",
    "\n",
    "plt.title(\"Gráfico de barras\")\n",
    "plt.show()"
   ]
  },
  {
   "attachments": {},
   "cell_type": "markdown",
   "id": "sublime-newspaper",
   "metadata": {},
   "source": [
    "Los precios de Alcorcon y Leganes son similares mientras que Getafe es una zona con precio superiores y  Fuenlabrada algo inferiores"
   ]
  },
  {
   "attachments": {},
   "cell_type": "markdown",
   "id": "speaking-diamond",
   "metadata": {},
   "source": [
    "#### Ejercicio 16. Calcula la media y la varianza de muestra para las siguientes variables: precio, habitaciones, superficie y baños (debes usar el subconjunto obtenido del Ejercicio 14) (★★★)\n",
    "\n",
    "Imprime ambos valores por cada variable."
   ]
  },
  {
   "cell_type": "code",
   "execution_count": null,
   "id": "random-feeling",
   "metadata": {},
   "outputs": [
    {
     "name": "stdout",
     "output_type": "stream",
     "text": [
      "El precio medio es de 223094.48070562293 y la varianza es de 14921367508.04902\n",
      "La media de habitaciones es de 3.0177383592017737 y la varianza es de 0.7188858892927543\n",
      "La media de baños es de 1.633221850613155 y la varianza es de 0.5717968625577321\n",
      "La media de superficie es de 111.75222363405337 y la varianza es de 4263.051760316336\n"
     ]
    }
   ],
   "source": [
    "# TODO\n",
    "precio_media = cinturon_sur['price'].dropna().mean()\n",
    "precio_varianza = cinturon_sur['price'].dropna().var()\n",
    "\n",
    "habitaciones_media = cinturon_sur['rooms'].dropna().mean()\n",
    "habitaciones_varianza = cinturon_sur['rooms'].dropna().var()\n",
    "\n",
    "bathroom_media = cinturon_sur['bathrooms'].dropna().mean()\n",
    "bathroom_varianza = cinturon_sur['bathrooms'].dropna().var()\n",
    "\n",
    "surface_media = cinturon_sur['surface'].dropna().mean()\n",
    "surface_varianza = cinturon_sur['surface'].dropna().var()\n",
    "\n",
    "print(f'El precio medio es de {precio_media} y la varianza es de {precio_varianza}')\n",
    "print(f'La media de habitaciones es de {habitaciones_media} y la varianza es de {habitaciones_varianza}')\n",
    "print(f'La media de baños es de {bathroom_media} y la varianza es de {bathroom_varianza}')\n",
    "print(f'La media de superficie es de {surface_media} y la varianza es de {surface_varianza}')\n",
    "\n"
   ]
  },
  {
   "attachments": {},
   "cell_type": "markdown",
   "id": "revolutionary-matrix",
   "metadata": {},
   "source": [
    "#### Ejercicio 17. ¿Cuál es la casa más cara de cada población? Debes usar el subset obtenido en la pregunta 14 (★★☆)\n",
    "\n",
    "Imprime tanto la dirección como el precio de la casa seleccionada de cada población. Puedes imprimir un DataFrame o una sola línea para cada población."
   ]
  },
  {
   "cell_type": "code",
   "execution_count": null,
   "id": "fifteen-browse",
   "metadata": {},
   "outputs": [
    {
     "name": "stdout",
     "output_type": "stream",
     "text": [
      "     poblacion    price\n",
      "0     Alcorcón   950000\n",
      "1  Fuenlabrada   490000\n",
      "2       Getafe  1050000\n",
      "3      Leganés   650000\n"
     ]
    }
   ],
   "source": [
    "# TODO\n",
    "\n",
    "max_price = cinturon_sur.groupby('level5')['price'].max().reset_index()\n",
    "\n",
    "max_price = max_price.rename(columns={'level5': 'poblacion'})\n",
    "\n",
    "print(max_price)"
   ]
  },
  {
   "attachments": {},
   "cell_type": "markdown",
   "id": "activated-knight",
   "metadata": {},
   "source": [
    "#### Ejercicio 18. Normaliza la variable de precios para cada población y traza los 4 histogramas en el mismo gráfico (debes usar el subconjunto obtenido en la pregunta 14) (★★★)\n",
    "\n",
    "Para el método de normalización, puedes usar el que consideres adecuado, no hay una única respuesta correcta para esta pregunta. Imprime el gráfico y escribe en la celda de Markdown un breve análisis sobre el gráfico.\n",
    "\n",
    "Pista: Puedes ayudarte revisando la demostración multihist de Matplotlib."
   ]
  },
  {
   "cell_type": "code",
   "execution_count": null,
   "id": "civic-meditation",
   "metadata": {},
   "outputs": [
    {
     "name": "stderr",
     "output_type": "stream",
     "text": [
      "/tmp/ipykernel_29228/1381931624.py:3: SettingWithCopyWarning: \n",
      "A value is trying to be set on a copy of a slice from a DataFrame.\n",
      "Try using .loc[row_indexer,col_indexer] = value instead\n",
      "\n",
      "See the caveats in the documentation: https://pandas.pydata.org/pandas-docs/stable/user_guide/indexing.html#returning-a-view-versus-a-copy\n",
      "  cinturon_sur.loc[:, 'price_normalized'] = cinturon_sur.groupby('level5')['price'].transform(lambda x: (x - x.mean()) / x.std())\n"
     ]
    },
    {
     "data": {
      "image/png": "[encoded data removed]",
      "text/plain": [
       "<Figure size 1000x600 with 1 Axes>"
      ]
     },
     "metadata": {},
     "output_type": "display_data"
    }
   ],
   "source": [
    "# TODO\n",
    "\n",
    "cinturon_sur.loc[:, 'price_normalized'] = cinturon_sur.groupby('level5')['price'].transform(lambda x: (x - x.mean()) / x.std())\n",
    "\n",
    "# poblaciones a analizar\n",
    "poblaciones = ['Alcorcón', 'Fuenlabrada', 'Getafe', 'Leganés']\n",
    "\n",
    "# Crear gráfico\n",
    "plt.figure(figsize=(10, 6))\n",
    "\n",
    "# histogramas para cada poblacion en el mismo gráfico\n",
    "for poblacion in poblaciones:\n",
    "    datos_poblacion = cinturon_sur[cinturon_sur['level5'] == poblacion]['price_normalized']\n",
    "    plt.hist(datos_poblacion, bins=20, alpha=0.5, label=poblacion)\n",
    "\n",
    "# detalles del gráfico\n",
    "plt.title('Histogramas de Precios Normalizados por Población')\n",
    "plt.xlabel('Precio Normalizado')\n",
    "plt.ylabel('Frecuencia')\n",
    "plt.legend()\n",
    "\n",
    "plt.show()"
   ]
  },
  {
   "attachments": {},
   "cell_type": "markdown",
   "id": "precise-heavy",
   "metadata": {},
   "source": [
    "**TODO: Markdown**. Para escribir aquí, haz doble clic en esta celda, elimina este contenido y coloca lo que quieras escribir. Luego ejecuta la celda."
   ]
  },
  {
   "attachments": {},
   "cell_type": "markdown",
   "id": "patent-jonathan",
   "metadata": {},
   "source": [
    "#### Ejercicio 19. ¿Qué puedes decir sobre el precio por metro cuadrado (precio/m2) entre los municipios de 'Getafe' y 'Alcorcón'? Debes usar el subconjunto obtenido en la pregunta 14 (★★☆)\n",
    "\n",
    "Pista: Crea una nueva columna llamada `pps` (price per square en inglés) y luego analiza los valores"
   ]
  },
  {
   "cell_type": "code",
   "execution_count": null,
   "id": "initial-liverpool",
   "metadata": {},
   "outputs": [
    {
     "name": "stdout",
     "output_type": "stream",
     "text": [
      "\n",
      "    El precio por metro cuadrado en Getafe es de 2066.314949251463 y la mediana es de 1973.3333333333333.\n",
      "    El precio por metro cuadrado en Alcorcón es de 2239.302480199618 y la mediana es de 2207.7922077922076.\n",
      "    La casa mas cara en Getafe tiene un precio de 1050000.\n",
      "    La casa mas cara en Alcorcón tiene un precio de 950000.\n",
      "    \n",
      "Podemos ver que Alcorcon tiene unos precios mas altos de media que Getafe, aunque la casa con mayor precio se encuentra en getafe\n"
     ]
    }
   ],
   "source": [
    "# TODO\n",
    "\n",
    "filtro  = ['Getafe', 'Alcorcón']\n",
    "\n",
    "comparacion_Get_Alc = ds[ds['level5'].isin(filtro)].dropna()\n",
    "\n",
    "#comparacion_Get_Alc = comparacion_Get_Alc[['price', 'surface']].dropna()\n",
    "\n",
    "comparacion_Get_Alc ['pps'] = comparacion_Get_Alc['price'] / comparacion_Get_Alc['surface']\n",
    "\n",
    "precio_max_Getafe = ds[ds['level5'] == 'Getafe']['price'].max()\n",
    "precio_max_Alcorcon = ds[ds['level5'] == 'Alcorcón']['price'].max()\n",
    "\n",
    "\n",
    "pps_media_Getafe = ds[ds['level5'] == 'Getafe']['pps'].mean()\n",
    "pps_mediana_Getafe = ds[ds['level5'] == 'Getafe']['pps'].median()\n",
    "\n",
    "pps_media_Alcorcon = ds[ds['level5'] == 'Alcorcón']['pps'].mean()\n",
    "pps_mediana_Alcorcon = ds[ds['level5'] == 'Alcorcón']['pps'].median()\n",
    "\n",
    "\n",
    "print(\n",
    "      f\"\"\"\n",
    "    El precio por metro cuadrado en Getafe es de {pps_media_Getafe} y la mediana es de {pps_mediana_Getafe}.\n",
    "    El precio por metro cuadrado en Alcorcón es de {pps_media_Alcorcon} y la mediana es de {pps_mediana_Alcorcon}.\n",
    "    La casa mas cara en Getafe tiene un precio de {precio_max_Getafe}.\n",
    "    La casa mas cara en Alcorcón tiene un precio de {precio_max_Alcorcon}.\n",
    "    \"\"\")\n",
    "\n",
    "print('Podemos ver que Alcorcon tiene unos precios mas altos de media que Getafe, aunque la casa con mayor precio se encuentra en getafe')\n",
    "\n",
    "\n"
   ]
  },
  {
   "attachments": {},
   "cell_type": "markdown",
   "id": "enhanced-moscow",
   "metadata": {},
   "source": [
    "#### Ejercicio 20. Realiza el mismo gráfico para 4 poblaciones diferentes (columna level5) y colócalos en el mismo gráfico. Debes usar el subconjunto obtenido en la pregunta 14 (★★☆) \n",
    "Pista: Haz un diagrama de dispersión de cada población usando subgráficos (subplots)."
   ]
  },
  {
   "cell_type": "code",
   "execution_count": null,
   "id": "accepting-airfare",
   "metadata": {},
   "outputs": [
    {
     "data": {
      "image/png": "[encoded data removed]",
      "text/plain": [
       "<Figure size 1000x600 with 1 Axes>"
      ]
     },
     "metadata": {},
     "output_type": "display_data"
    }
   ],
   "source": [
    "# TODO\n",
    "\n",
    "# Crear gráfico\n",
    "plt.figure(figsize=(10, 6))\n",
    "\n",
    "# histogramas para cada poblacion en el mismo gráfico\n",
    "for poblacion in poblaciones:\n",
    "    datos_pps = cinturon_sur[cinturon_sur['level5'] == poblacion]\n",
    "    plt.scatter(datos_pps['surface'], datos_pps['price'], label=poblacion, alpha=0.6)\n",
    "\n",
    "\n",
    "# detalles del gráfico\n",
    "plt.title('Histogramas de precios en relacion a la superficie')\n",
    "plt.xlabel('Superficie')\n",
    "plt.ylabel('Precio')\n",
    "plt.legend()\n",
    "\n",
    "plt.show()\n"
   ]
  },
  {
   "attachments": {},
   "cell_type": "markdown",
   "id": "blocked-effects",
   "metadata": {},
   "source": [
    "#### Ejercicio 21. Realiza un trazado de las coordenadas (columnas latitud y longitud) del cinturón sur de Madrid por color de cada población (debes usar el subconjunto obtenido del Ejercicio 14) (★★★★)\n",
    "\n",
    "Ejecuta la siguiente celda y luego comienza a codear en la siguiente. Debes implementar un código simple que transforme las columnas de coordenadas en un diccionario de Python (agrega más información si es necesario) y agrégala al mapa."
   ]
  },
  {
   "cell_type": "code",
   "execution_count": null,
   "id": "headed-privacy",
   "metadata": {},
   "outputs": [],
   "source": [
    "#Este codigo no funciona correctamente\n",
    "\n",
    "'''from ipyleaflet import Map, basemaps\n",
    "\n",
    "# Mapa centrado en (60 grados latitud y -2.2 grados longitud)\n",
    "# Latitud, longitud\n",
    "map = Map(center = (60, -2.2), zoom = 10, min_zoom = 1, max_zoom = 20, \n",
    "basemap=basemaps.Stamen.Terrain)\n",
    "map'''\n",
    "\n",
    "from ipyleaflet import Map, TileLayer, Marker\n",
    "stamen_terrain = TileLayer(\n",
    "    url='https://stamen-tiles.a.ssl.fastly.net/terrain/{z}/{x}/{y}.png'\n",
    ")\n",
    "map = Map(center=(60, -2.2), zoom=5, min_zoom = 1, max_zoom = 20)\n",
    "map.add_layer(stamen_terrain)"
   ]
  },
  {
   "cell_type": "code",
   "execution_count": null,
   "id": "present-mistress",
   "metadata": {},
   "outputs": [
    {
     "data": {
      "application/vnd.jupyter.widget-view+json": {
       "model_id": "87eea6bad7634bafb6ef815395fc2410",
       "version_major": 2,
       "version_minor": 0
      },
      "text/plain": [
       "Map(center=[60, -2.2], controls=(ZoomControl(options=['position', 'zoom_in_text', 'zoom_in_title', 'zoom_out_t…"
      ]
     },
     "execution_count": 24,
     "metadata": {},
     "output_type": "execute_result"
    }
   ],
   "source": [
    "## Aquí: traza la coordenadas de los estados\n",
    "\n",
    "## PON TU CÓDIGO AQUÍ:\n",
    "\n",
    "# Convertir a una lista de diccionarios\n",
    "coordenadas = cinturon_sur.loc[:, ['latitude', 'longitude']].dropna().to_dict(orient='records')\n",
    "\n",
    "#print(coordenadas)\n",
    "\n",
    "#map.add(Marker(location=('40.28674', '-3.79351')))\n",
    "\n",
    "for i in coordenadas:\n",
    "    lat, lon = float(str(i['latitude']).replace(',', '.')), float(str(i['longitude']).replace(',', '.'))\n",
    "    if i['latitude'] == 0 and i['longitude'] == 0:\n",
    "        continue\n",
    "    map.add(Marker(location=(lat, lon)))\n",
    "\n",
    "\n",
    "map"
   ]
  }
 ],
 "metadata": {
  "kernelspec": {
   "display_name": "Python 3",
   "language": "python",
   "name": "python3"
  },
  "language_info": {
   "codemirror_mode": {
    "name": "ipython",
    "version": 3
   },
   "file_extension": ".py",
   "mimetype": "text/x-python",
   "name": "python",
   "nbconvert_exporter": "python",
   "pygments_lexer": "ipython3",
   "version": "3.11.9"
  }
 },
 "nbformat": 4,
 "nbformat_minor": 5
}
